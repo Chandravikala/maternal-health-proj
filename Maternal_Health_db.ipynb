{
 "cells": [
  {
   "cell_type": "markdown",
   "id": "2fbdc8a1-d1a2-4327-a5d7-38058fa4c56f",
   "metadata": {},
   "source": [
    "# Install Required Libraries"
   ]
  },
  {
   "cell_type": "code",
   "execution_count": 27,
   "id": "f6c13cd1-ea72-43cb-bbc9-c93207b450f3",
   "metadata": {
    "scrolled": true
   },
   "outputs": [
    {
     "name": "stdout",
     "output_type": "stream",
     "text": [
      "Requirement already satisfied: sqlalchemy in c:\\users\\chand\\anaconda3\\lib\\site-packages (2.0.25)\n",
      "Requirement already satisfied: typing-extensions>=4.6.0 in c:\\users\\chand\\anaconda3\\lib\\site-packages (from sqlalchemy) (4.9.0)\n",
      "Requirement already satisfied: greenlet!=0.4.17 in c:\\users\\chand\\anaconda3\\lib\\site-packages (from sqlalchemy) (3.0.1)\n"
     ]
    }
   ],
   "source": [
    "!pip install sqlalchemy\n",
    "import psycopg2\n",
    "import pandas as pd"
   ]
  },
  {
   "cell_type": "markdown",
   "id": "232df747-bac7-442a-8af5-3a96d0bbaddd",
   "metadata": {},
   "source": [
    "# Install the sqlalchemy toolkit"
   ]
  },
  {
   "cell_type": "code",
   "execution_count": 28,
   "id": "5e016c93-fd50-499a-aec3-a829af2ab5a8",
   "metadata": {},
   "outputs": [],
   "source": [
    "from sqlalchemy import create_engine\n",
    "from urllib.parse import quote_plus"
   ]
  },
  {
   "cell_type": "markdown",
   "id": "836ade3b-cf04-4a2b-a8d2-f3dc36b6a114",
   "metadata": {},
   "source": [
    "# DB Connection using credentials"
   ]
  },
  {
   "cell_type": "code",
   "execution_count": 29,
   "id": "8d45d3f3-abc4-4bce-8221-b7a558a43556",
   "metadata": {},
   "outputs": [],
   "source": [
    "#Setting up the db connection\n",
    "import psycopg2\n",
    "username = 'postgres'\n",
    "password = 'postgres'\n",
    "host = 'localhost'       # or the IP address of your PostgreSQL server\n",
    "port = '5432'            # default PostgreSQL port\n",
    "database = 'Maternal health'"
   ]
  },
  {
   "cell_type": "markdown",
   "id": "b105061d-3a44-41bb-95e1-6ca51f13eefe",
   "metadata": {},
   "source": [
    "# Create an engine for connecting to PostgreSQL"
   ]
  },
  {
   "cell_type": "code",
   "execution_count": 30,
   "id": "746bde6a-dede-44f0-aeb3-4484780b7ae2",
   "metadata": {},
   "outputs": [],
   "source": [
    "# Create an engine for connecting to PostgreSQL\n",
    "engine = create_engine(f'postgresql+psycopg2://{username}:{password}@{host}:{port}/{database}')"
   ]
  },
  {
   "cell_type": "markdown",
   "id": "3600e03e-5de6-4144-b73d-27c1ef91890e",
   "metadata": {},
   "source": [
    "# loading the csv data into dataframe"
   ]
  },
  {
   "cell_type": "code",
   "execution_count": 31,
   "id": "7de9cc85-0ac2-4c0c-b21f-ab9932309055",
   "metadata": {},
   "outputs": [],
   "source": [
    "# Reading data from a CSV file\n",
    "df_observations = pd.read_csv(\"observations.csv\")"
   ]
  },
  {
   "cell_type": "code",
   "execution_count": 32,
   "id": "f431976c-b227-44dc-89a5-87f8540e4547",
   "metadata": {},
   "outputs": [
    {
     "data": {
      "text/html": [
       "<div>\n",
       "<style scoped>\n",
       "    .dataframe tbody tr th:only-of-type {\n",
       "        vertical-align: middle;\n",
       "    }\n",
       "\n",
       "    .dataframe tbody tr th {\n",
       "        vertical-align: top;\n",
       "    }\n",
       "\n",
       "    .dataframe thead th {\n",
       "        text-align: right;\n",
       "    }\n",
       "</style>\n",
       "<table border=\"1\" class=\"dataframe\">\n",
       "  <thead>\n",
       "    <tr style=\"text-align: right;\">\n",
       "      <th></th>\n",
       "      <th>case_id</th>\n",
       "      <th>age_years_old</th>\n",
       "      <th>color_ethnicity</th>\n",
       "      <th>hypertension_past_reported</th>\n",
       "      <th>hypertension_past_treatment</th>\n",
       "      <th>diabetes_mellitus_dm_reported</th>\n",
       "      <th>diabetes_mellitus_disease_gap</th>\n",
       "      <th>diabetes_mellitus_treatment</th>\n",
       "      <th>tobacco_use</th>\n",
       "      <th>tobacco_use_in_months</th>\n",
       "      <th>...</th>\n",
       "      <th>newborn_height</th>\n",
       "      <th>newborn_head_circumference</th>\n",
       "      <th>thoracic_perimeter_newborn</th>\n",
       "      <th>meconium_labor</th>\n",
       "      <th>apgar_1st_min</th>\n",
       "      <th>apgar_5th_min</th>\n",
       "      <th>pediatric_resuscitation_maneuvers</th>\n",
       "      <th>newborn_intubation</th>\n",
       "      <th>newborn_airway_aspiration</th>\n",
       "      <th>mothers_hospital_stay</th>\n",
       "    </tr>\n",
       "  </thead>\n",
       "  <tbody>\n",
       "    <tr>\n",
       "      <th>0</th>\n",
       "      <td>2</td>\n",
       "      <td>28</td>\n",
       "      <td>0.0</td>\n",
       "      <td>0</td>\n",
       "      <td>not_applicable</td>\n",
       "      <td>0</td>\n",
       "      <td>not_applicable</td>\n",
       "      <td>not_applicable</td>\n",
       "      <td>0</td>\n",
       "      <td>not_applicable</td>\n",
       "      <td>...</td>\n",
       "      <td>44</td>\n",
       "      <td>32</td>\n",
       "      <td>NaN</td>\n",
       "      <td>0.0</td>\n",
       "      <td>8.0</td>\n",
       "      <td>9.0</td>\n",
       "      <td>0.0</td>\n",
       "      <td>0.0</td>\n",
       "      <td>1.0</td>\n",
       "      <td>NaN</td>\n",
       "    </tr>\n",
       "    <tr>\n",
       "      <th>1</th>\n",
       "      <td>3</td>\n",
       "      <td>37</td>\n",
       "      <td>1.0</td>\n",
       "      <td>0</td>\n",
       "      <td>not_applicable</td>\n",
       "      <td>0</td>\n",
       "      <td>not_applicable</td>\n",
       "      <td>not_applicable</td>\n",
       "      <td>0</td>\n",
       "      <td>not_applicable</td>\n",
       "      <td>...</td>\n",
       "      <td>NaN</td>\n",
       "      <td>NaN</td>\n",
       "      <td>NaN</td>\n",
       "      <td>NaN</td>\n",
       "      <td>NaN</td>\n",
       "      <td>NaN</td>\n",
       "      <td>NaN</td>\n",
       "      <td>NaN</td>\n",
       "      <td>NaN</td>\n",
       "      <td>NaN</td>\n",
       "    </tr>\n",
       "    <tr>\n",
       "      <th>2</th>\n",
       "      <td>4</td>\n",
       "      <td>20</td>\n",
       "      <td>0.0</td>\n",
       "      <td>0</td>\n",
       "      <td>not_applicable</td>\n",
       "      <td>0</td>\n",
       "      <td>not_applicable</td>\n",
       "      <td>not_applicable</td>\n",
       "      <td>0</td>\n",
       "      <td>not_applicable</td>\n",
       "      <td>...</td>\n",
       "      <td>NaN</td>\n",
       "      <td>NaN</td>\n",
       "      <td>NaN</td>\n",
       "      <td>NaN</td>\n",
       "      <td>NaN</td>\n",
       "      <td>NaN</td>\n",
       "      <td>NaN</td>\n",
       "      <td>NaN</td>\n",
       "      <td>NaN</td>\n",
       "      <td>NaN</td>\n",
       "    </tr>\n",
       "    <tr>\n",
       "      <th>3</th>\n",
       "      <td>5</td>\n",
       "      <td>21</td>\n",
       "      <td>1.0</td>\n",
       "      <td>0</td>\n",
       "      <td>not_applicable</td>\n",
       "      <td>0</td>\n",
       "      <td>not_applicable</td>\n",
       "      <td>not_applicable</td>\n",
       "      <td>0</td>\n",
       "      <td>not_applicable</td>\n",
       "      <td>...</td>\n",
       "      <td>48</td>\n",
       "      <td>33</td>\n",
       "      <td>NaN</td>\n",
       "      <td>0.0</td>\n",
       "      <td>9.0</td>\n",
       "      <td>9.0</td>\n",
       "      <td>0.0</td>\n",
       "      <td>0.0</td>\n",
       "      <td>0.0</td>\n",
       "      <td>1.0</td>\n",
       "    </tr>\n",
       "    <tr>\n",
       "      <th>4</th>\n",
       "      <td>7</td>\n",
       "      <td>17</td>\n",
       "      <td>0.0</td>\n",
       "      <td>0</td>\n",
       "      <td>not_applicable</td>\n",
       "      <td>0</td>\n",
       "      <td>not_applicable</td>\n",
       "      <td>not_applicable</td>\n",
       "      <td>0</td>\n",
       "      <td>not_applicable</td>\n",
       "      <td>...</td>\n",
       "      <td>46</td>\n",
       "      <td>31.5</td>\n",
       "      <td>NaN</td>\n",
       "      <td>0.0</td>\n",
       "      <td>8.0</td>\n",
       "      <td>9.0</td>\n",
       "      <td>0.0</td>\n",
       "      <td>0.0</td>\n",
       "      <td>0.0</td>\n",
       "      <td>1.0</td>\n",
       "    </tr>\n",
       "  </tbody>\n",
       "</table>\n",
       "<p>5 rows × 115 columns</p>\n",
       "</div>"
      ],
      "text/plain": [
       "   case_id  age_years_old  color_ethnicity  hypertension_past_reported  \\\n",
       "0        2             28              0.0                           0   \n",
       "1        3             37              1.0                           0   \n",
       "2        4             20              0.0                           0   \n",
       "3        5             21              1.0                           0   \n",
       "4        7             17              0.0                           0   \n",
       "\n",
       "  hypertension_past_treatment  diabetes_mellitus_dm_reported  \\\n",
       "0              not_applicable                              0   \n",
       "1              not_applicable                              0   \n",
       "2              not_applicable                              0   \n",
       "3              not_applicable                              0   \n",
       "4              not_applicable                              0   \n",
       "\n",
       "  diabetes_mellitus_disease_gap diabetes_mellitus_treatment  tobacco_use  \\\n",
       "0                not_applicable              not_applicable            0   \n",
       "1                not_applicable              not_applicable            0   \n",
       "2                not_applicable              not_applicable            0   \n",
       "3                not_applicable              not_applicable            0   \n",
       "4                not_applicable              not_applicable            0   \n",
       "\n",
       "  tobacco_use_in_months  ... newborn_height  newborn_head_circumference  \\\n",
       "0        not_applicable  ...             44                          32   \n",
       "1        not_applicable  ...            NaN                         NaN   \n",
       "2        not_applicable  ...            NaN                         NaN   \n",
       "3        not_applicable  ...             48                          33   \n",
       "4        not_applicable  ...             46                        31.5   \n",
       "\n",
       "  thoracic_perimeter_newborn meconium_labor apgar_1st_min apgar_5th_min  \\\n",
       "0                        NaN            0.0           8.0           9.0   \n",
       "1                        NaN            NaN           NaN           NaN   \n",
       "2                        NaN            NaN           NaN           NaN   \n",
       "3                        NaN            0.0           9.0           9.0   \n",
       "4                        NaN            0.0           8.0           9.0   \n",
       "\n",
       "  pediatric_resuscitation_maneuvers newborn_intubation  \\\n",
       "0                               0.0                0.0   \n",
       "1                               NaN                NaN   \n",
       "2                               NaN                NaN   \n",
       "3                               0.0                0.0   \n",
       "4                               0.0                0.0   \n",
       "\n",
       "  newborn_airway_aspiration mothers_hospital_stay  \n",
       "0                       1.0                   NaN  \n",
       "1                       NaN                   NaN  \n",
       "2                       NaN                   NaN  \n",
       "3                       0.0                   1.0  \n",
       "4                       0.0                   1.0  \n",
       "\n",
       "[5 rows x 115 columns]"
      ]
     },
     "execution_count": 32,
     "metadata": {},
     "output_type": "execute_result"
    }
   ],
   "source": [
    "df_observations.head()"
   ]
  },
  {
   "cell_type": "markdown",
   "id": "8239661d-e585-43da-b37c-ee7f8b46df5c",
   "metadata": {},
   "source": [
    "# Load the dataframe into Database(postgresql)"
   ]
  },
  {
   "cell_type": "code",
   "execution_count": 33,
   "id": "addfda03-4586-4c66-88d1-9cede0ba2ae5",
   "metadata": {},
   "outputs": [
    {
     "name": "stdout",
     "output_type": "stream",
     "text": [
      "CSV file loaded successfully into PostgreSQL!\n"
     ]
    }
   ],
   "source": [
    "# Load the DataFrame into PostgreSQL\n",
    "table_name = 'Maternal_data'\n",
    "df_observations.to_sql(table_name, engine, if_exists='replace', index=False)\n",
    "\n",
    "print(\"CSV file loaded successfully into PostgreSQL!\")"
   ]
  },
  {
   "cell_type": "code",
   "execution_count": null,
   "id": "22f228b8-7967-429e-8cd3-1c4c879ad658",
   "metadata": {},
   "outputs": [],
   "source": []
  }
 ],
 "metadata": {
  "kernelspec": {
   "display_name": "Python 3 (ipykernel)",
   "language": "python",
   "name": "python3"
  },
  "language_info": {
   "codemirror_mode": {
    "name": "ipython",
    "version": 3
   },
   "file_extension": ".py",
   "mimetype": "text/x-python",
   "name": "python",
   "nbconvert_exporter": "python",
   "pygments_lexer": "ipython3",
   "version": "3.11.7"
  }
 },
 "nbformat": 4,
 "nbformat_minor": 5
}
